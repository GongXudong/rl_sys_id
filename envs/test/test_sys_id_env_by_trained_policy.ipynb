{
 "cells": [
  {
   "cell_type": "code",
   "execution_count": 31,
   "id": "91d3a214",
   "metadata": {},
   "outputs": [
    {
     "data": {
      "text/plain": [
       "PosixPath('/home/ucav/pythonprojects/rl_sys_id')"
      ]
     },
     "execution_count": 31,
     "metadata": {},
     "output_type": "execute_result"
    }
   ],
   "source": [
    "import sys\n",
    "from pathlib import Path\n",
    "from stable_baselines3.dqn import DQN\n",
    "import optuna\n",
    "\n",
    "PROJECT_ROOT_DIR = Path().absolute().parent.parent\n",
    "if str(PROJECT_ROOT_DIR.absolute()) not in sys.path:\n",
    "    sys.path.append(str(PROJECT_ROOT_DIR.absolute()))\n",
    "\n",
    "from envs.sys_id_env import SystemIdentificationEnv\n",
    "from utils.wrappers.multibinary_to_discrete import MultiBinaryToDiscreteWrapper\n",
    "\n",
    "optuna.logging.set_verbosity(optuna.logging.WARNING)  # 关闭Optuna控制台的输出\n",
    "\n",
    "PROJECT_ROOT_DIR"
   ]
  },
  {
   "cell_type": "code",
   "execution_count": 32,
   "id": "9208f544",
   "metadata": {},
   "outputs": [],
   "source": [
    "params_config = {\n",
    "    \"g\": {\n",
    "        \"initial_value\": 10.0,\n",
    "        \"optimize\": True,\n",
    "        \"range\": [9.0, 10.0],\n",
    "    },\n",
    "    \"m\": {\n",
    "        \"initial_value\": 1.0,\n",
    "        \"optimize\": True,\n",
    "        \"range\": [0.8, 1.2],\n",
    "    },\n",
    "    \"l\": {\n",
    "        \"initial_value\": 1.0,\n",
    "        \"optimize\": True,\n",
    "        \"range\": [0.7, 1.3],\n",
    "    },\n",
    "}\n",
    "\n",
    "env = SystemIdentificationEnv(\n",
    "    dynamics_env_id=\"CustomPendulum-v0\",\n",
    "    params_config=params_config,\n",
    "    obs_real_file_path=PROJECT_ROOT_DIR / \"data/custom_pendulum/obs_real.npy\",\n",
    "    act_real_file_path=PROJECT_ROOT_DIR / \"data/custom_pendulum/act_real.npy\",\n",
    "    next_obs_real_file_path=PROJECT_ROOT_DIR / \"data/custom_pendulum/next_obs_real.npy\",\n",
    "    bo_optimizer_n_trials=30,\n",
    "    bo_optimizer_n_jobs=16,\n",
    "    reward_b=0.2,\n",
    "    max_steps=20,\n",
    "    loss_threshold=1e-10,\n",
    ")\n",
    "env = MultiBinaryToDiscreteWrapper(env)"
   ]
  },
  {
   "cell_type": "code",
   "execution_count": 33,
   "id": "61a88787",
   "metadata": {},
   "outputs": [
    {
     "name": "stdout",
     "output_type": "stream",
     "text": [
      "Wrapping the env with a `Monitor` wrapper\n",
      "Wrapping the env in a DummyVecEnv.\n"
     ]
    }
   ],
   "source": [
    "policy_path = PROJECT_ROOT_DIR / \"checkpoints/sys_id/custom_pendulum/sac/g_9_5_m_0_9_l_1_2/seed_2/best_model.zip\"\n",
    "algo = DQN.load(policy_path, env)"
   ]
  },
  {
   "cell_type": "code",
   "execution_count": null,
   "id": "ca534729",
   "metadata": {},
   "outputs": [
    {
     "name": "stdout",
     "output_type": "stream",
     "text": [
      "info 0: {'loss': 0.00024436624}\n",
      "[10.  1.  1.] 6 -0.37553155349725054 [9.067515  1.0832785 1.1277757]\n",
      "{'params_before_optimize': {'g': 10.0, 'm': 1.0, 'l': 1.0}, 'params_selected_to_optimize': {'g': {'initial_value': 10.0, 'optimize': True, 'range': [9.0, 10.0]}, 'm': {'initial_value': 1.0, 'optimize': True, 'range': [0.8, 1.2]}, 'l': {'initial_value': 1.0, 'optimize': True, 'range': [0.7, 1.3]}}, 'params_after_optimize': {'g': 9.067515118419042, 'm': 1.0832784975363612, 'l': 1.1277756640256547}, 'loss': 1.8250441371492343e-06, 'success': False}\n",
      "[9.067515  1.0832785 1.1277757] 2 -0.35299300474835404 [9.067515  1.0742176 1.1253773]\n",
      "{'params_before_optimize': {'g': 9.067515118419042, 'm': 1.0832784975363612, 'l': 1.1277756640256547}, 'params_selected_to_optimize': {'m': {'initial_value': 1.0, 'optimize': True, 'range': [0.8, 1.2]}, 'l': {'initial_value': 1.0, 'optimize': True, 'range': [0.7, 1.3]}}, 'params_after_optimize': {'m': 1.0742175177856266, 'l': 1.1253772882720297}, 'loss': 1.3392809705692343e-06, 'success': False}\n",
      "[9.067515  1.0742176 1.1253773] 5 -0.35483770440207446 [9.10483   1.0075401 1.1253773]\n",
      "{'params_before_optimize': {'g': 9.067515118419042, 'm': 1.0742175177856266, 'l': 1.1253772882720297}, 'params_selected_to_optimize': {'g': {'initial_value': 10.0, 'optimize': True, 'range': [9.0, 10.0]}, 'm': {'initial_value': 1.0, 'optimize': True, 'range': [0.8, 1.2]}}, 'params_after_optimize': {'g': 9.104830245711902, 'm': 1.0075401648418563}, 'loss': 1.374643261442543e-06, 'success': False}\n",
      "[9.10483   1.0075401 1.1253773] 5 -0.24608272318331093 [9.003973  1.0273218 1.1253773]\n",
      "{'params_before_optimize': {'g': 9.104830245711902, 'm': 1.0075401648418563, 'l': 1.1253772882720297}, 'params_selected_to_optimize': {'g': {'initial_value': 10.0, 'optimize': True, 'range': [9.0, 10.0]}, 'm': {'initial_value': 1.0, 'optimize': True, 'range': [0.8, 1.2]}}, 'params_after_optimize': {'g': 9.00397268554911, 'm': 1.027321796212369}, 'loss': 2.2051941073186754e-07, 'success': False}\n",
      "[9.003973  1.0273218 1.1253773] 1 -0.2456570998889131 [9.003973  1.0282214 1.1253773]\n",
      "{'params_before_optimize': {'g': 9.00397268554911, 'm': 1.027321796212369, 'l': 1.1253772882720297}, 'params_selected_to_optimize': {'m': {'initial_value': 1.0, 'optimize': True, 'range': [0.8, 1.2]}}, 'params_after_optimize': {'m': 1.0282213238786264}, 'loss': 2.1861895049823943e-07, 'success': False}\n",
      "[9.003973  1.0282214 1.1253773] 1 -0.24548672349188372 [9.003973  1.030942  1.1253773]\n",
      "{'params_before_optimize': {'g': 9.00397268554911, 'm': 1.0282213238786264, 'l': 1.1253772882720297}, 'params_selected_to_optimize': {'m': {'initial_value': 1.0, 'optimize': True, 'range': [0.8, 1.2]}}, 'params_after_optimize': {'m': 1.0309419086130822}, 'loss': 2.1786188142414176e-07, 'success': False}\n",
      "[9.003973  1.030942  1.1253773] 1 -0.25636121823255725 [9.003973  1.0402398 1.1253773]\n",
      "{'params_before_optimize': {'g': 9.00397268554911, 'm': 1.0309419086130822, 'l': 1.1253772882720297}, 'params_selected_to_optimize': {'m': {'initial_value': 1.0, 'optimize': True, 'range': [0.8, 1.2]}}, 'params_after_optimize': {'m': 1.0402398422689965}, 'loss': 2.705844508454902e-07, 'success': False}\n",
      "[9.003973  1.0402398 1.1253773] 1 -0.25035409581287377 [9.003973  1.036662  1.1253773]\n",
      "{'params_before_optimize': {'g': 9.00397268554911, 'm': 1.0402398422689965, 'l': 1.1253772882720297}, 'params_selected_to_optimize': {'m': {'initial_value': 1.0, 'optimize': True, 'range': [0.8, 1.2]}}, 'params_after_optimize': {'m': 1.036661927433194}, 'loss': 2.403337191481114e-07, 'success': False}\n",
      "[9.003973  1.036662  1.1253773] 1 -0.24549596537733911 [9.003973  1.0287324 1.1253773]\n",
      "{'params_before_optimize': {'g': 9.00397268554911, 'm': 1.036661927433194, 'l': 1.1253772882720297}, 'params_selected_to_optimize': {'m': {'initial_value': 1.0, 'optimize': True, 'range': [0.8, 1.2]}}, 'params_after_optimize': {'m': 1.028732451408134}, 'loss': 2.1790289395084983e-07, 'success': False}\n",
      "[9.003973  1.0287324 1.1253773] 1 -0.24542725842281077 [9.003973  1.0306698 1.1253773]\n",
      "{'params_before_optimize': {'g': 9.00397268554911, 'm': 1.028732451408134, 'l': 1.1253772882720297}, 'params_selected_to_optimize': {'m': {'initial_value': 1.0, 'optimize': True, 'range': [0.8, 1.2]}}, 'params_after_optimize': {'m': 1.0306697778623637}, 'loss': 2.1759814217148232e-07, 'success': False}\n",
      "[9.003973  1.0306698 1.1253773] 1 -0.24535778765919464 [9.003973  1.0300696 1.1253773]\n",
      "{'params_before_optimize': {'g': 9.00397268554911, 'm': 1.0306697778623637, 'l': 1.1253772882720297}, 'params_selected_to_optimize': {'m': {'initial_value': 1.0, 'optimize': True, 'range': [0.8, 1.2]}}, 'params_after_optimize': {'m': 1.0300695482017888}, 'loss': 2.1729034926920576e-07, 'success': False}\n",
      "[9.003973  1.0300696 1.1253773] 1 -0.27778711739424117 [9.003973  1.0109578 1.1253773]\n",
      "{'params_before_optimize': {'g': 9.00397268554911, 'm': 1.0300695482017888, 'l': 1.1253772882720297}, 'params_selected_to_optimize': {'m': {'initial_value': 1.0, 'optimize': True, 'range': [0.8, 1.2]}}, 'params_after_optimize': {'m': 1.0109578619165562}, 'loss': 4.0420502500637667e-07, 'success': False}\n",
      "[9.003973  1.0109578 1.1253773] 1 -0.2545396237041034 [9.003973  1.0392628 1.1253773]\n",
      "{'params_before_optimize': {'g': 9.00397268554911, 'm': 1.0109578619165562, 'l': 1.1253772882720297}, 'params_selected_to_optimize': {'m': {'initial_value': 1.0, 'optimize': True, 'range': [0.8, 1.2]}}, 'params_after_optimize': {'m': 1.0392627625715452}, 'loss': 2.6110680551028054e-07, 'success': False}\n",
      "[9.003973  1.0392628 1.1253773] 1 -0.24744280536141142 [9.003973  1.0255526 1.1253773]\n",
      "{'params_before_optimize': {'g': 9.00397268554911, 'm': 1.0392627625715452, 'l': 1.1253772882720297}, 'params_selected_to_optimize': {'m': {'initial_value': 1.0, 'optimize': True, 'range': [0.8, 1.2]}}, 'params_after_optimize': {'m': 1.0255526153353236}, 'loss': 2.266811236495414e-07, 'success': False}\n",
      "[9.003973  1.0255526 1.1253773] 1 -0.24564042340963982 [9.003973  1.0282655 1.1253773]\n",
      "{'params_before_optimize': {'g': 9.00397268554911, 'm': 1.0255526153353236, 'l': 1.1253772882720297}, 'params_selected_to_optimize': {'m': {'initial_value': 1.0, 'optimize': True, 'range': [0.8, 1.2]}}, 'params_after_optimize': {'m': 1.028265418757434}, 'loss': 2.1854475562577136e-07, 'success': False}\n",
      "[9.003973  1.0282655 1.1253773] 1 -0.24569704305667828 [9.003973  1.028117  1.1253773]\n",
      "{'params_before_optimize': {'g': 9.00397268554911, 'm': 1.028265418757434, 'l': 1.1253772882720297}, 'params_selected_to_optimize': {'m': {'initial_value': 1.0, 'optimize': True, 'range': [0.8, 1.2]}}, 'params_after_optimize': {'m': 1.028116884818141}, 'loss': 2.1879674250158132e-07, 'success': False}\n",
      "[9.003973  1.028117  1.1253773] 1 -0.24551193205040042 [9.003973  1.0310402 1.1253773]\n",
      "{'params_before_optimize': {'g': 9.00397268554911, 'm': 1.028116884818141, 'l': 1.1253772882720297}, 'params_selected_to_optimize': {'m': {'initial_value': 1.0, 'optimize': True, 'range': [0.8, 1.2]}}, 'params_after_optimize': {'m': 1.031040185041944}, 'loss': 2.1797376348331454e-07, 'success': False}\n",
      "[9.003973  1.0310402 1.1253773] 1 -0.24535271034478703 [9.003973  1.0298    1.1253773]\n",
      "{'params_before_optimize': {'g': 9.00397268554911, 'm': 1.031040185041944, 'l': 1.1253772882720297}, 'params_selected_to_optimize': {'m': {'initial_value': 1.0, 'optimize': True, 'range': [0.8, 1.2]}}, 'params_after_optimize': {'m': 1.0298001145324334}, 'loss': 2.172678676970463e-07, 'success': False}\n",
      "[9.003973  1.0298    1.1253773] 1 -0.24589184317647306 [9.003973  1.0320393 1.1253773]\n",
      "{'params_before_optimize': {'g': 9.00397268554911, 'm': 1.0298001145324334, 'l': 1.1253772882720297}, 'params_selected_to_optimize': {'m': {'initial_value': 1.0, 'optimize': True, 'range': [0.8, 1.2]}}, 'params_after_optimize': {'m': 1.032039284086504}, 'loss': 2.1966548047203105e-07, 'success': False}\n",
      "[9.003973  1.0320393 1.1253773] 1 -0.2457250366364893 [9.003973  1.0280471 1.1253773]\n",
      "{'params_before_optimize': {'g': 9.00397268554911, 'm': 1.032039284086504, 'l': 1.1253772882720297}, 'params_selected_to_optimize': {'m': {'initial_value': 1.0, 'optimize': True, 'range': [0.8, 1.2]}}, 'params_after_optimize': {'m': 1.0280470735844272}, 'loss': 2.189214143299978e-07, 'success': False}\n",
      "finished\n"
     ]
    }
   ],
   "source": [
    "obs, info = env.reset(seed=9851)\n",
    "print(f\"info 0: {info}\")\n",
    "\n",
    "while True:\n",
    "    action, _ = algo.policy.predict(observation=obs, deterministic=True)\n",
    "    next_obs, reward, terminated, truncated, info = env.step(action=action)\n",
    "    print(obs, action, reward, next_obs)\n",
    "    print(info)\n",
    "    obs = next_obs\n",
    "    if terminated or truncated:\n",
    "        print(\"finished\")\n",
    "        break"
   ]
  },
  {
   "cell_type": "markdown",
   "id": "5aff5bfc",
   "metadata": {},
   "source": []
  },
  {
   "cell_type": "code",
   "execution_count": 35,
   "id": "2cfdf278",
   "metadata": {},
   "outputs": [
    {
     "name": "stdout",
     "output_type": "stream",
     "text": [
      "4\n",
      "5\n",
      "7\n",
      "9\n",
      "0\n",
      "1\n",
      "8\n",
      "9\n",
      "2\n",
      "3\n"
     ]
    }
   ],
   "source": [
    "from gymnasium.utils import seeding\n",
    "\n",
    "rng, seed = seeding.np_random(1)\n",
    "for i in range(10):\n",
    "    print(rng.integers(0, 10))"
   ]
  }
 ],
 "metadata": {
  "kernelspec": {
   "display_name": "new_gymnasium",
   "language": "python",
   "name": "python3"
  },
  "language_info": {
   "codemirror_mode": {
    "name": "ipython",
    "version": 3
   },
   "file_extension": ".py",
   "mimetype": "text/x-python",
   "name": "python",
   "nbconvert_exporter": "python",
   "pygments_lexer": "ipython3",
   "version": "3.12.0"
  }
 },
 "nbformat": 4,
 "nbformat_minor": 5
}
