{
 "cells": [
  {
   "cell_type": "code",
   "execution_count": 1,
   "id": "91d3a214",
   "metadata": {},
   "outputs": [
    {
     "name": "stderr",
     "output_type": "stream",
     "text": [
      "/home/ucav/anaconda3/envs/new_gymnasium/lib/python3.12/site-packages/tqdm/auto.py:21: TqdmWarning: IProgress not found. Please update jupyter and ipywidgets. See https://ipywidgets.readthedocs.io/en/stable/user_install.html\n",
      "  from .autonotebook import tqdm as notebook_tqdm\n"
     ]
    },
    {
     "data": {
      "text/plain": [
       "PosixPath('/home/ucav/pythonprojects/rl_sys_id')"
      ]
     },
     "execution_count": 1,
     "metadata": {},
     "output_type": "execute_result"
    }
   ],
   "source": [
    "import sys\n",
    "from pathlib import Path\n",
    "from stable_baselines3.dqn import DQN\n",
    "import optuna\n",
    "\n",
    "PROJECT_ROOT_DIR = Path().absolute().parent.parent\n",
    "if str(PROJECT_ROOT_DIR.absolute()) not in sys.path:\n",
    "    sys.path.append(str(PROJECT_ROOT_DIR.absolute()))\n",
    "\n",
    "from envs.sys_id_env import SystemIdentificationEnv\n",
    "from utils.wrappers.multibinary_to_discrete import MultiBinaryToDiscreteWrapper\n",
    "\n",
    "optuna.logging.set_verbosity(optuna.logging.WARNING)  # 关闭Optuna控制台的输出\n",
    "\n",
    "PROJECT_ROOT_DIR"
   ]
  },
  {
   "cell_type": "code",
   "execution_count": null,
   "id": "9208f544",
   "metadata": {},
   "outputs": [
    {
     "name": "stderr",
     "output_type": "stream",
     "text": [
      "/home/ucav/anaconda3/envs/new_gymnasium/lib/python3.12/site-packages/gymnasium/spaces/box.py:235: UserWarning: \u001b[33mWARN: Box low's precision lowered by casting to float32, current low.dtype=float64\u001b[0m\n",
      "  gym.logger.warn(\n",
      "/home/ucav/anaconda3/envs/new_gymnasium/lib/python3.12/site-packages/gymnasium/spaces/box.py:305: UserWarning: \u001b[33mWARN: Box high's precision lowered by casting to float32, current high.dtype=float64\u001b[0m\n",
      "  gym.logger.warn(\n"
     ]
    }
   ],
   "source": [
    "params_config = {\n",
    "    \"g\": {\n",
    "        \"initial_value\": 10.0,\n",
    "        \"optimize\": True,\n",
    "        \"range\": [9.0, 10.0],\n",
    "    },\n",
    "    \"m\": {\n",
    "        \"initial_value\": 1.0,\n",
    "        \"optimize\": True,\n",
    "        \"range\": [0.8, 1.2],\n",
    "    },\n",
    "    \"l\": {\n",
    "        \"initial_value\": 1.0,\n",
    "        \"optimize\": True,\n",
    "        \"range\": [0.7, 1.3],\n",
    "    },\n",
    "}\n",
    "\n",
    "env = SystemIdentificationEnv(\n",
    "    dynamics_env_id=\"CustomPendulum-v0\",\n",
    "    params_config=params_config,\n",
    "    obs_real_file_path=PROJECT_ROOT_DIR / \"data/custom_pendulum/permanent/obs_real.npy\",\n",
    "    act_real_file_path=PROJECT_ROOT_DIR / \"data/custom_pendulum/permanent/act_real.npy\",\n",
    "    next_obs_real_file_path=PROJECT_ROOT_DIR / \"data/custom_pendulum/permanent/next_obs_real.npy\",\n",
    "    bo_optimizer_n_trials=30,\n",
    "    bo_optimizer_n_jobs=16,\n",
    "    bo_optimizer_sample_num_in_optimize=1000,\n",
    "    reward_b=0.2,\n",
    "    max_steps=10,\n",
    "    loss_threshold=1e-10,\n",
    ")\n",
    "env = MultiBinaryToDiscreteWrapper(env)"
   ]
  },
  {
   "cell_type": "code",
   "execution_count": 3,
   "id": "61a88787",
   "metadata": {},
   "outputs": [
    {
     "name": "stdout",
     "output_type": "stream",
     "text": [
      "Wrapping the env with a `Monitor` wrapper\n",
      "Wrapping the env in a DummyVecEnv.\n"
     ]
    }
   ],
   "source": [
    "policy_path = PROJECT_ROOT_DIR / \"checkpoints/sys_id/custom_pendulum/sac/g_9_5_m_0_9_l_1_2/seed_2/best_model.zip\"\n",
    "algo = DQN.load(policy_path, env)"
   ]
  },
  {
   "cell_type": "code",
   "execution_count": 4,
   "id": "ca534729",
   "metadata": {},
   "outputs": [
    {
     "name": "stdout",
     "output_type": "stream",
     "text": [
      "info 0: {'loss': 0.0018601656}\n",
      "[10.  1.  1.] 4 -0.18693282714061368 [9.003447 1.       1.141486]\n",
      "{'params_before_optimize': {'g': 10.0, 'm': 1.0, 'l': 1.0}, 'params_selected_to_optimize': {'g': {'initial_value': 10.0, 'optimize': True, 'range': [9.0, 10.0]}, 'l': {'initial_value': 1.0, 'optimize': True, 'range': [0.7, 1.3]}}, 'params_after_optimize': {'g': 9.00344678715477, 'l': 1.141486066467132}, 'loss': 4.245995057772234e-07, 'success': False}\n",
      "[9.003447 1.       1.141486] 1 -0.2546968811633697 [9.003447  0.9771619 1.141486 ]\n",
      "{'params_before_optimize': {'g': 9.00344678715477, 'm': 1.0, 'l': 1.141486066467132}, 'params_selected_to_optimize': {'m': {'initial_value': 1.0, 'optimize': True, 'range': [0.8, 1.2]}}, 'params_after_optimize': {'m': 0.9771619088684472}, 'loss': 1.9937456272600684e-06, 'success': False}\n",
      "[9.003447  0.9771619 1.141486 ] 1 -0.22591209408838342 [9.003447  1.0072787 1.141486 ]\n",
      "{'params_before_optimize': {'g': 9.00344678715477, 'm': 0.9771619088684472, 'l': 1.141486066467132}, 'params_selected_to_optimize': {'m': {'initial_value': 1.0, 'optimize': True, 'range': [0.8, 1.2]}}, 'params_after_optimize': {'m': 1.0072786467928208}, 'loss': 1.0945838084808202e-06, 'success': False}\n",
      "[9.003447  1.0072787 1.141486 ] 1 -0.1913940684076045 [9.003447 1.000892 1.141486]\n",
      "{'params_before_optimize': {'g': 9.00344678715477, 'm': 1.0072786467928208, 'l': 1.141486066467132}, 'params_selected_to_optimize': {'m': {'initial_value': 1.0, 'optimize': True, 'range': [0.8, 1.2]}}, 'params_after_optimize': {'m': 1.000892059088983}, 'loss': 4.777426170221588e-07, 'success': False}\n",
      "[9.003447 1.000892 1.141486] 1 -0.19058014456850988 [9.003447  0.9888717 1.141486 ]\n",
      "{'params_before_optimize': {'g': 9.00344678715477, 'm': 1.000892059088983, 'l': 1.141486066467132}, 'params_selected_to_optimize': {'m': {'initial_value': 1.0, 'optimize': True, 'range': [0.8, 1.2]}}, 'params_after_optimize': {'m': 0.9888717035297203}, 'loss': 4.676703895256651e-07, 'success': False}\n",
      "[9.003447  0.9888717 1.141486 ] 1 -0.1728503094599261 [9.003447  0.9936243 1.141486 ]\n",
      "{'params_before_optimize': {'g': 9.00344678715477, 'm': 0.9888717035297203, 'l': 1.141486066467132}, 'params_selected_to_optimize': {'m': {'initial_value': 1.0, 'optimize': True, 'range': [0.8, 1.2]}}, 'params_after_optimize': {'m': 0.9936243482744601}, 'loss': 2.870135631383164e-07, 'success': False}\n",
      "[9.003447  0.9936243 1.141486 ] 1 -0.17417147301231536 [9.003447   0.99292755 1.141486  ]\n",
      "{'params_before_optimize': {'g': 9.00344678715477, 'm': 0.9936243482744601, 'l': 1.141486066467132}, 'params_selected_to_optimize': {'m': {'initial_value': 1.0, 'optimize': True, 'range': [0.8, 1.2]}}, 'params_after_optimize': {'m': 0.9929275374173657}, 'loss': 2.9815132052135596e-07, 'success': False}\n",
      "[9.003447   0.99292755 1.141486  ] 1 -0.17262271029378856 [9.003447  0.9937904 1.141486 ]\n",
      "{'params_before_optimize': {'g': 9.00344678715477, 'm': 0.9929275374173657, 'l': 1.141486066467132}, 'params_selected_to_optimize': {'m': {'initial_value': 1.0, 'optimize': True, 'range': [0.8, 1.2]}}, 'params_after_optimize': {'m': 0.993790367317886}, 'loss': 2.851289195859863e-07, 'success': False}\n",
      "[9.003447  0.9937904 1.141486 ] 1 -0.17393789854591477 [9.003447  0.9930315 1.141486 ]\n",
      "{'params_before_optimize': {'g': 9.00344678715477, 'm': 0.993790367317886, 'l': 1.141486066467132}, 'params_selected_to_optimize': {'m': {'initial_value': 1.0, 'optimize': True, 'range': [0.8, 1.2]}}, 'params_after_optimize': {'m': 0.993031531521687}, 'loss': 2.9615748076139425e-07, 'success': False}\n",
      "[9.003447  0.9930315 1.141486 ] 1 -0.17200063305997723 [9.003447   0.99476945 1.141486  ]\n",
      "{'params_before_optimize': {'g': 9.00344678715477, 'm': 0.993031531521687, 'l': 1.141486066467132}, 'params_selected_to_optimize': {'m': {'initial_value': 1.0, 'optimize': True, 'range': [0.8, 1.2]}}, 'params_after_optimize': {'m': 0.9947694632190975}, 'loss': 2.8002824592476827e-07, 'success': False}\n",
      "[9.003447   0.99476945 1.141486  ] 1 -0.2265266776101386 [9.003447  1.0073946 1.141486 ]\n",
      "{'params_before_optimize': {'g': 9.00344678715477, 'm': 0.9947694632190975, 'l': 1.141486066467132}, 'params_selected_to_optimize': {'m': {'initial_value': 1.0, 'optimize': True, 'range': [0.8, 1.2]}}, 'params_after_optimize': {'m': 1.0073945948294134}, 'loss': 1.1095538638983271e-06, 'success': False}\n",
      "[9.003447  1.0073946 1.141486 ] 1 -0.2197058024196791 [9.003447  0.9836673 1.141486 ]\n",
      "{'params_before_optimize': {'g': 9.00344678715477, 'm': 1.0073945948294134, 'l': 1.141486066467132}, 'params_selected_to_optimize': {'m': {'initial_value': 1.0, 'optimize': True, 'range': [0.8, 1.2]}}, 'params_after_optimize': {'m': 0.9836673233992316}, 'loss': 9.522681239104713e-07, 'success': False}\n",
      "[9.003447  0.9836673 1.141486 ] 1 -0.17504350416981038 [9.003447   0.99257874 1.141486  ]\n",
      "{'params_before_optimize': {'g': 9.00344678715477, 'm': 0.9836673233992316, 'l': 1.141486066467132}, 'params_selected_to_optimize': {'m': {'initial_value': 1.0, 'optimize': True, 'range': [0.8, 1.2]}}, 'params_after_optimize': {'m': 0.9925787530937992}, 'loss': 3.056902642128989e-07, 'success': False}\n",
      "[9.003447   0.99257874 1.141486  ] 1 -0.1727462041072795 [9.003447   0.99369735 1.141486  ]\n",
      "{'params_before_optimize': {'g': 9.00344678715477, 'm': 0.9925787530937992, 'l': 1.141486066467132}, 'params_selected_to_optimize': {'m': {'initial_value': 1.0, 'optimize': True, 'range': [0.8, 1.2]}}, 'params_after_optimize': {'m': 0.9936973237197533}, 'loss': 2.861502821360773e-07, 'success': False}\n",
      "[9.003447   0.99369735 1.141486  ] 1 -0.17546558076183016 [9.003447  0.9924266 1.141486 ]\n",
      "{'params_before_optimize': {'g': 9.00344678715477, 'm': 0.9936973237197533, 'l': 1.141486066467132}, 'params_selected_to_optimize': {'m': {'initial_value': 1.0, 'optimize': True, 'range': [0.8, 1.2]}}, 'params_after_optimize': {'m': 0.9924265500080696}, 'loss': 3.093935845299711e-07, 'success': False}\n",
      "[9.003447  0.9924266 1.141486 ] 1 -0.173309518721931 [9.003447 0.996193 1.141486]\n",
      "{'params_before_optimize': {'g': 9.00344678715477, 'm': 0.9924265500080696, 'l': 1.141486066467132}, 'params_selected_to_optimize': {'m': {'initial_value': 1.0, 'optimize': True, 'range': [0.8, 1.2]}}, 'params_after_optimize': {'m': 0.9961929945097148}, 'loss': 2.9084640118526295e-07, 'success': False}\n",
      "[9.003447 0.996193 1.141486] 1 -0.17205952176383588 [9.003447  0.9950662 1.141486 ]\n",
      "{'params_before_optimize': {'g': 9.00344678715477, 'm': 0.9961929945097148, 'l': 1.141486066467132}, 'params_selected_to_optimize': {'m': {'initial_value': 1.0, 'optimize': True, 'range': [0.8, 1.2]}}, 'params_after_optimize': {'m': 0.9950662487059199}, 'loss': 2.8050794753653463e-07, 'success': False}\n",
      "[9.003447  0.9950662 1.141486 ] 1 -0.194439693900081 [9.003447  1.0014764 1.141486 ]\n",
      "{'params_before_optimize': {'g': 9.00344678715477, 'm': 0.9950662487059199, 'l': 1.141486066467132}, 'params_selected_to_optimize': {'m': {'initial_value': 1.0, 'optimize': True, 'range': [0.8, 1.2]}}, 'params_after_optimize': {'m': 1.0014763733985639}, 'loss': 5.169829933038272e-07, 'success': False}\n",
      "[9.003447  1.0014764 1.141486 ] 1 -0.174515279215202 [9.003447   0.99675864 1.141486  ]\n",
      "{'params_before_optimize': {'g': 9.00344678715477, 'm': 1.0014763733985639, 'l': 1.141486066467132}, 'params_selected_to_optimize': {'m': {'initial_value': 1.0, 'optimize': True, 'range': [0.8, 1.2]}}, 'params_after_optimize': {'m': 0.9967586601491916}, 'loss': 3.0110564352980873e-07, 'success': False}\n",
      "[9.003447   0.99675864 1.141486  ] 1 -0.21762329928852153 [9.003447  1.0057358 1.141486 ]\n",
      "{'params_before_optimize': {'g': 9.00344678715477, 'm': 0.9967586601491916, 'l': 1.141486066467132}, 'params_selected_to_optimize': {'m': {'initial_value': 1.0, 'optimize': True, 'range': [0.8, 1.2]}}, 'params_after_optimize': {'m': 1.0057357250697498}, 'loss': 9.079847700377286e-07, 'success': False}\n",
      "finished\n"
     ]
    }
   ],
   "source": [
    "obs, info = env.reset(seed=17954)\n",
    "print(f\"info 0: {info}\")\n",
    "\n",
    "while True:\n",
    "    action, _ = algo.policy.predict(observation=obs, deterministic=True)\n",
    "    next_obs, reward, terminated, truncated, info = env.step(action=action)\n",
    "    print(obs, action, reward, next_obs)\n",
    "    print(info)\n",
    "    obs = next_obs\n",
    "    if terminated or truncated:\n",
    "        print(\"finished\")\n",
    "        break"
   ]
  },
  {
   "cell_type": "markdown",
   "id": "5aff5bfc",
   "metadata": {},
   "source": []
  }
 ],
 "metadata": {
  "kernelspec": {
   "display_name": "new_gymnasium",
   "language": "python",
   "name": "python3"
  },
  "language_info": {
   "codemirror_mode": {
    "name": "ipython",
    "version": 3
   },
   "file_extension": ".py",
   "mimetype": "text/x-python",
   "name": "python",
   "nbconvert_exporter": "python",
   "pygments_lexer": "ipython3",
   "version": "3.12.0"
  }
 },
 "nbformat": 4,
 "nbformat_minor": 5
}
