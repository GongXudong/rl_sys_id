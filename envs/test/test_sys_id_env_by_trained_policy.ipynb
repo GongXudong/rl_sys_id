{
 "cells": [
  {
   "cell_type": "code",
   "execution_count": 30,
   "id": "91d3a214",
   "metadata": {},
   "outputs": [
    {
     "data": {
      "text/plain": [
       "PosixPath('/home/ucav/pythonprojects/rl_sys_id')"
      ]
     },
     "execution_count": 30,
     "metadata": {},
     "output_type": "execute_result"
    }
   ],
   "source": [
    "import sys\n",
    "from pathlib import Path\n",
    "from stable_baselines3.dqn import DQN\n",
    "import optuna\n",
    "\n",
    "PROJECT_ROOT_DIR = Path().absolute().parent.parent\n",
    "if str(PROJECT_ROOT_DIR.absolute()) not in sys.path:\n",
    "    sys.path.append(str(PROJECT_ROOT_DIR.absolute()))\n",
    "\n",
    "from envs.sys_id_env import SystemIdentificationEnv\n",
    "from utils.wrappers.multibinary_to_discrete import MultiBinaryToDiscreteWrapper\n",
    "\n",
    "optuna.logging.set_verbosity(optuna.logging.WARNING)  # 关闭Optuna控制台的输出\n",
    "\n",
    "PROJECT_ROOT_DIR"
   ]
  },
  {
   "cell_type": "code",
   "execution_count": null,
   "id": "9208f544",
   "metadata": {},
   "outputs": [],
   "source": [
    "params_config = {\n",
    "    \"g\": {\n",
    "        \"initial_value\": 10.0,\n",
    "        \"optimize\": True,\n",
    "        \"range\": [9.0, 10.0],\n",
    "    },\n",
    "    \"m\": {\n",
    "        \"initial_value\": 1.0,\n",
    "        \"optimize\": True,\n",
    "        \"range\": [0.8, 1.2],\n",
    "    },\n",
    "    \"l\": {\n",
    "        \"initial_value\": 1.0,\n",
    "        \"optimize\": True,\n",
    "        \"range\": [0.7, 1.3],\n",
    "    },\n",
    "}\n",
    "\n",
    "env = SystemIdentificationEnv(\n",
    "    dynamics_env_id=\"CustomPendulum-v0\",\n",
    "    params_config=params_config,\n",
    "    obs_real_file_path=PROJECT_ROOT_DIR / \"data/custom_pendulum/obs_real.npy\",\n",
    "    act_real_file_path=PROJECT_ROOT_DIR / \"data/custom_pendulum/act_real.npy\",\n",
    "    next_obs_real_file_path=PROJECT_ROOT_DIR / \"data/custom_pendulum/next_obs_real.npy\",\n",
    "    bo_optimizer_n_trials=30,\n",
    "    bo_optimizer_seed=42,\n",
    "    bo_optimizer_n_jobs=16,\n",
    "    reward_b=0.2,\n",
    "    max_steps=10,\n",
    "    loss_threshold=1e-10,\n",
    ")\n",
    "env = MultiBinaryToDiscreteWrapper(env)"
   ]
  },
  {
   "cell_type": "code",
   "execution_count": 32,
   "id": "61a88787",
   "metadata": {},
   "outputs": [
    {
     "name": "stdout",
     "output_type": "stream",
     "text": [
      "Wrapping the env with a `Monitor` wrapper\n",
      "Wrapping the env in a DummyVecEnv.\n"
     ]
    }
   ],
   "source": [
    "policy_path = PROJECT_ROOT_DIR / \"checkpoints/sys_id/custom_pendulum/sac/g_9_5_m_0_9_l_1_2/seed_1/best_model.zip\"\n",
    "algo = DQN.load(policy_path, env)"
   ]
  },
  {
   "cell_type": "code",
   "execution_count": 33,
   "id": "ca534729",
   "metadata": {},
   "outputs": [
    {
     "name": "stdout",
     "output_type": "stream",
     "text": [
      "info 0: {'loss': 0.00024436624}\n",
      "[10.  1.  1.] 6 -0.4328812880789597\n",
      "{'params_before_optimize': {'g': 10.0, 'm': 1.0, 'l': 1.0}, 'params_selected_to_optimize': {'g': {'initial_value': 10.0, 'optimize': True, 'range': [9.0, 10.0]}, 'm': {'initial_value': 1.0, 'optimize': True, 'range': [0.8, 1.2]}, 'l': {'initial_value': 1.0, 'optimize': True, 'range': [0.7, 1.3]}}, 'params_after_optimize': {'g': 9.070518527599743, 'm': 1.0984759516442764, 'l': 1.1363101318100588}, 'loss': 3.7143709050724283e-06, 'success': False}\n",
      "[9.0705185 1.0984759 1.1363101] 6 -0.27172982439902\n",
      "{'params_before_optimize': {'g': 9.070518527599743, 'm': 1.0984759516442764, 'l': 1.1363101318100588}, 'params_selected_to_optimize': {'g': {'initial_value': 10.0, 'optimize': True, 'range': [9.0, 10.0]}, 'm': {'initial_value': 1.0, 'optimize': True, 'range': [0.8, 1.2]}, 'l': {'initial_value': 1.0, 'optimize': True, 'range': [0.7, 1.3]}}, 'params_after_optimize': {'g': 9.740522208993532, 'm': 0.8705047602533282, 'l': 1.2161688237699326}, 'loss': 3.620159816364321e-07, 'success': False}\n",
      "[9.740522   0.87050474 1.2161689 ] 5 -0.16685189596217878\n",
      "{'params_before_optimize': {'g': 9.740522208993532, 'm': 0.8705047602533282, 'l': 1.2161688237699326}, 'params_selected_to_optimize': {'g': {'initial_value': 10.0, 'optimize': True, 'range': [9.0, 10.0]}, 'm': {'initial_value': 1.0, 'optimize': True, 'range': [0.8, 1.2]}}, 'params_after_optimize': {'g': 9.599558710537195, 'm': 0.8701405527565121}, 'loss': 3.160071671004516e-08, 'success': False}\n",
      "[9.599559   0.87014055 1.2161689 ] 5 -0.35593930301061427\n",
      "{'params_before_optimize': {'g': 9.599558710537195, 'm': 0.8701405527565121, 'l': 1.2161688237699326}, 'params_selected_to_optimize': {'g': {'initial_value': 10.0, 'optimize': True, 'range': [9.0, 10.0]}, 'm': {'initial_value': 1.0, 'optimize': True, 'range': [0.8, 1.2]}}, 'params_after_optimize': {'g': 9.369191993670766, 'm': 0.8655800946319816}, 'loss': 1.3961141576146474e-06, 'success': False}\n",
      "[9.369192  0.8655801 1.2161689] 5 -0.20840929323660015\n",
      "{'params_before_optimize': {'g': 9.369191993670766, 'm': 0.8655800946319816, 'l': 1.2161688237699326}, 'params_selected_to_optimize': {'g': {'initial_value': 10.0, 'optimize': True, 'range': [9.0, 10.0]}, 'm': {'initial_value': 1.0, 'optimize': True, 'range': [0.8, 1.2]}}, 'params_after_optimize': {'g': 9.635665564741542, 'm': 0.865192125360116}, 'loss': 9.607858686422333e-08, 'success': False}\n",
      "[9.635666  0.8651921 1.2161689] 5 -0.3312388446480232\n",
      "{'params_before_optimize': {'g': 9.635665564741542, 'm': 0.865192125360116, 'l': 1.2161688237699326}, 'params_selected_to_optimize': {'g': {'initial_value': 10.0, 'optimize': True, 'range': [9.0, 10.0]}, 'm': {'initial_value': 1.0, 'optimize': True, 'range': [0.8, 1.2]}}, 'params_after_optimize': {'g': 9.753207365739256, 'm': 0.8533149229006669}, 'loss': 9.74422960098309e-07, 'success': False}\n",
      "[9.753207   0.85331494 1.2161689 ] 5 -0.18345866925693854\n",
      "{'params_before_optimize': {'g': 9.753207365739256, 'm': 0.8533149229006669, 'l': 1.2161688237699326}, 'params_selected_to_optimize': {'g': {'initial_value': 10.0, 'optimize': True, 'range': [9.0, 10.0]}, 'm': {'initial_value': 1.0, 'optimize': True, 'range': [0.8, 1.2]}}, 'params_after_optimize': {'g': 9.580021284080294, 'm': 0.8715617936057902}, 'loss': 5.0784642269263713e-08, 'success': False}\n",
      "[9.580021   0.87156177 1.2161689 ] 5 -0.21088878715745807\n",
      "{'params_before_optimize': {'g': 9.580021284080294, 'm': 0.8715617936057902, 'l': 1.2161688237699326}, 'params_selected_to_optimize': {'g': {'initial_value': 10.0, 'optimize': True, 'range': [9.0, 10.0]}, 'm': {'initial_value': 1.0, 'optimize': True, 'range': [0.8, 1.2]}}, 'params_after_optimize': {'g': 9.598375152914478, 'm': 0.8639010250396091}, 'loss': 1.0193155475235471e-07, 'success': False}\n",
      "[9.598375  0.863901  1.2161689] 5 -0.3494189233798285\n",
      "{'params_before_optimize': {'g': 9.598375152914478, 'm': 0.8639010250396091, 'l': 1.2161688237699326}, 'params_selected_to_optimize': {'g': {'initial_value': 10.0, 'optimize': True, 'range': [9.0, 10.0]}, 'm': {'initial_value': 1.0, 'optimize': True, 'range': [0.8, 1.2]}}, 'params_after_optimize': {'g': 9.874755149138013, 'm': 0.8858462453182901}, 'loss': 1.2728385172522394e-06, 'success': False}\n",
      "[9.874755   0.88584626 1.2161689 ] 6 -0.4719272551951968\n",
      "{'params_before_optimize': {'g': 9.874755149138013, 'm': 0.8858462453182901, 'l': 1.2161688237699326}, 'params_selected_to_optimize': {'g': {'initial_value': 10.0, 'optimize': True, 'range': [9.0, 10.0]}, 'm': {'initial_value': 1.0, 'optimize': True, 'range': [0.8, 1.2]}, 'l': {'initial_value': 1.0, 'optimize': True, 'range': [0.7, 1.3]}}, 'params_after_optimize': {'g': 9.470227360483499, 'm': 0.8001614137103212, 'l': 1.2640886892352026}, 'loss': 5.7202696552849375e-06, 'success': False}\n"
     ]
    }
   ],
   "source": [
    "obs, info = env.reset(seed=10)\n",
    "print(f\"info 0: {info}\")\n",
    "\n",
    "while True:\n",
    "    action, _ = algo.policy.predict(observation=obs, deterministic=True)\n",
    "    next_obs, reward, terminated, truncated, info = env.step(action=action)\n",
    "    print(obs, action, reward)\n",
    "    print(info)\n",
    "    obs = next_obs\n",
    "    if terminated or truncated:\n",
    "        break"
   ]
  }
 ],
 "metadata": {
  "kernelspec": {
   "display_name": "new_gymnasium",
   "language": "python",
   "name": "python3"
  },
  "language_info": {
   "codemirror_mode": {
    "name": "ipython",
    "version": 3
   },
   "file_extension": ".py",
   "mimetype": "text/x-python",
   "name": "python",
   "nbconvert_exporter": "python",
   "pygments_lexer": "ipython3",
   "version": "3.12.0"
  }
 },
 "nbformat": 4,
 "nbformat_minor": 5
}
