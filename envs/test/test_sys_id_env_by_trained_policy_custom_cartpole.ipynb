{
 "cells": [
  {
   "cell_type": "code",
   "execution_count": 50,
   "id": "91d3a214",
   "metadata": {},
   "outputs": [
    {
     "data": {
      "text/plain": [
       "PosixPath('/home/ucav/pythonprojects/rl_sys_id')"
      ]
     },
     "execution_count": 50,
     "metadata": {},
     "output_type": "execute_result"
    }
   ],
   "source": [
    "import sys\n",
    "from pathlib import Path\n",
    "from stable_baselines3.dqn import DQN\n",
    "import optuna\n",
    "\n",
    "PROJECT_ROOT_DIR = Path().absolute().parent.parent\n",
    "if str(PROJECT_ROOT_DIR.absolute()) not in sys.path:\n",
    "    sys.path.append(str(PROJECT_ROOT_DIR.absolute()))\n",
    "\n",
    "from envs.sys_id_env import SystemIdentificationEnv\n",
    "from utils.wrappers.multibinary_to_discrete import MultiBinaryToDiscreteWrapper\n",
    "\n",
    "optuna.logging.set_verbosity(optuna.logging.WARNING)  # 关闭Optuna控制台的输出\n",
    "\n",
    "PROJECT_ROOT_DIR"
   ]
  },
  {
   "cell_type": "code",
   "execution_count": 51,
   "id": "9208f544",
   "metadata": {},
   "outputs": [],
   "source": [
    "params_config = {\n",
    "    \"gravity\": {\n",
    "        \"initial_value\": 9.8,\n",
    "        \"optimize\": True,\n",
    "        \"range\": [9.5, 10.0],\n",
    "    },\n",
    "    \"masscart\": {\n",
    "        \"initial_value\": 1.0,\n",
    "        \"optimize\": True,\n",
    "        \"range\": [0.8, 1.2],\n",
    "    },\n",
    "    \"masspole\": {\n",
    "        \"initial_value\": 0.1,\n",
    "        \"optimize\": True,\n",
    "        \"range\": [0.08, 0.12],\n",
    "    },\n",
    "    \"length\": {\n",
    "        \"initial_value\": 0.5,\n",
    "        \"optimize\": True,\n",
    "        \"range\": [0.4, 0.6],\n",
    "    },\n",
    "    \"force_mag\": {\n",
    "        \"initial_value\": 10.0,\n",
    "        \"optimize\": True,\n",
    "        \"range\": [9.0, 11.0],\n",
    "    },\n",
    "    \"tau\": {\n",
    "        \"initial_value\": 0.02,\n",
    "        \"optimize\": True,\n",
    "        \"range\": [0.018, 0.022],\n",
    "    },\n",
    "}\n",
    "\n",
    "env = SystemIdentificationEnv(\n",
    "    dynamics_env_id=\"CustomCartPole-v0\",\n",
    "    params_config=params_config,\n",
    "    obs_real_file_path=PROJECT_ROOT_DIR / \"data/custom_cartpole/permanent/obs_real.npy\",\n",
    "    act_real_file_path=PROJECT_ROOT_DIR / \"data/custom_cartpole/permanent/act_real.npy\",\n",
    "    next_obs_real_file_path=PROJECT_ROOT_DIR / \"data/custom_cartpole/permanent/next_obs_real.npy\",\n",
    "    bo_optimizer_n_trials=30,\n",
    "    bo_optimizer_n_jobs=16,\n",
    "    bo_optimizer_sample_num_in_optimize=1000,\n",
    "    reward_b=0.2,\n",
    "    max_steps=5,\n",
    "    loss_threshold=1e-10,\n",
    ")\n",
    "env = MultiBinaryToDiscreteWrapper(env)"
   ]
  },
  {
   "cell_type": "code",
   "execution_count": 52,
   "id": "61a88787",
   "metadata": {},
   "outputs": [
    {
     "name": "stdout",
     "output_type": "stream",
     "text": [
      "Wrapping the env with a `Monitor` wrapper\n",
      "Wrapping the env in a DummyVecEnv.\n"
     ]
    }
   ],
   "source": [
    "policy_path = PROJECT_ROOT_DIR / \"checkpoints/sys_id/custom_cartpole/ppo/g_9_8_mc_1_1_mp_0_09_l_0_55_fm_10_0_tau_0_02/bo_opt_step_30/seed_1/best_model.zip\"\n",
    "algo = DQN.load(policy_path, env)"
   ]
  },
  {
   "cell_type": "code",
   "execution_count": 53,
   "id": "ca534729",
   "metadata": {},
   "outputs": [
    {
     "name": "stdout",
     "output_type": "stream",
     "text": [
      "info 0: {'loss': 0.00069014146}\n",
      "[ 9.8   1.    0.1   0.5  10.    0.02] 46 -0.30730543173187924 [9.751348   1.         0.10847028 0.55959064 9.288495   0.02      ]\n",
      "{'params_before_optimize': {'gravity': 9.8, 'masscart': 1.0, 'masspole': 0.1, 'length': 0.5, 'force_mag': 10.0, 'tau': 0.02}, 'params_selected_to_optimize': {'gravity': {'initial_value': 9.8, 'optimize': True, 'range': [9.5, 10.0]}, 'masspole': {'initial_value': 0.1, 'optimize': True, 'range': [0.08, 0.12]}, 'length': {'initial_value': 0.5, 'optimize': True, 'range': [0.4, 0.6]}, 'force_mag': {'initial_value': 10.0, 'optimize': True, 'range': [9.0, 11.0]}}, 'params_after_optimize': {'gravity': 9.751347247625441, 'masspole': 0.10847028124988517, 'length': 0.5595906297462993, 'force_mag': 9.288495167143376}, 'loss': 1.8914257680080482e-06, 'success': False}\n",
      "[9.751348   1.         0.10847028 0.55959064 9.288495   0.02      ] 45 -0.3915815245430152 [9.9761505  1.         0.10690418 0.5449301  9.288495   0.01989127]\n",
      "{'params_before_optimize': {'gravity': 9.751347247625441, 'masscart': 1.0, 'masspole': 0.10847028124988517, 'length': 0.5595906297462993, 'force_mag': 9.288495167143376, 'tau': 0.02}, 'params_selected_to_optimize': {'gravity': {'initial_value': 9.8, 'optimize': True, 'range': [9.5, 10.0]}, 'masspole': {'initial_value': 0.1, 'optimize': True, 'range': [0.08, 0.12]}, 'length': {'initial_value': 0.5, 'optimize': True, 'range': [0.4, 0.6]}, 'tau': {'initial_value': 0.02, 'optimize': True, 'range': [0.018, 0.022]}}, 'params_after_optimize': {'gravity': 9.97615020180058, 'masspole': 0.10690418026315276, 'length': 0.5449300848875704, 'tau': 0.01989126559171306}, 'loss': 6.354027391353156e-06, 'success': False}\n",
      "[9.9761505  1.         0.10690418 0.5449301  9.288495   0.01989127] 45 -0.36975520585513577 [9.998241   1.         0.09736218 0.5647103  9.288495   0.01984226]\n",
      "{'params_before_optimize': {'gravity': 9.97615020180058, 'masscart': 1.0, 'masspole': 0.10690418026315276, 'length': 0.5449300848875704, 'force_mag': 9.288495167143376, 'tau': 0.01989126559171306}, 'params_selected_to_optimize': {'gravity': {'initial_value': 9.8, 'optimize': True, 'range': [9.5, 10.0]}, 'masspole': {'initial_value': 0.1, 'optimize': True, 'range': [0.08, 0.12]}, 'length': {'initial_value': 0.5, 'optimize': True, 'range': [0.4, 0.6]}, 'tau': {'initial_value': 0.02, 'optimize': True, 'range': [0.018, 0.022]}}, 'params_after_optimize': {'gravity': 9.998241082397113, 'masspole': 0.09736218307685594, 'length': 0.56471032425587, 'tau': 0.01984225887971473}, 'loss': 4.7699036258563865e-06, 'success': False}\n",
      "[9.998241   1.         0.09736218 0.5647103  9.288495   0.01984226] 41 -0.3500074975906375 [9.787962   1.         0.11317398 0.5647103  9.288495   0.02006372]\n",
      "{'params_before_optimize': {'gravity': 9.998241082397113, 'masscart': 1.0, 'masspole': 0.09736218307685594, 'length': 0.56471032425587, 'force_mag': 9.288495167143376, 'tau': 0.01984225887971473}, 'params_selected_to_optimize': {'gravity': {'initial_value': 9.8, 'optimize': True, 'range': [9.5, 10.0]}, 'masspole': {'initial_value': 0.1, 'optimize': True, 'range': [0.08, 0.12]}, 'tau': {'initial_value': 0.02, 'optimize': True, 'range': [0.018, 0.022]}}, 'params_after_optimize': {'gravity': 9.787961711629002, 'masspole': 0.11317398530564918, 'tau': 0.020063719490543315}, 'loss': 3.6251406072551617e-06, 'success': False}\n",
      "[9.787962   1.         0.11317398 0.5647103  9.288495   0.02006372] 45 -0.49852615375485754 [9.712348   1.         0.10529163 0.5650762  9.288495   0.01947607]\n",
      "{'params_before_optimize': {'gravity': 9.787961711629002, 'masscart': 1.0, 'masspole': 0.11317398530564918, 'length': 0.56471032425587, 'force_mag': 9.288495167143376, 'tau': 0.020063719490543315}, 'params_selected_to_optimize': {'gravity': {'initial_value': 9.8, 'optimize': True, 'range': [9.5, 10.0]}, 'masspole': {'initial_value': 0.1, 'optimize': True, 'range': [0.08, 0.12]}, 'length': {'initial_value': 0.5, 'optimize': True, 'range': [0.4, 0.6]}, 'tau': {'initial_value': 0.02, 'optimize': True, 'range': [0.018, 0.022]}}, 'params_after_optimize': {'gravity': 9.712347699046418, 'masspole': 0.105291632155397, 'length': 0.5650761867023907, 'tau': 0.019476072448228868}, 'loss': 2.1250925783533603e-05, 'success': False}\n",
      "finished\n"
     ]
    }
   ],
   "source": [
    "obs, info = env.reset(seed=259324)\n",
    "print(f\"info 0: {info}\")\n",
    "\n",
    "while True:\n",
    "    action, _ = algo.policy.predict(observation=obs, deterministic=True)\n",
    "    next_obs, reward, terminated, truncated, info = env.step(action=action)\n",
    "    print(obs, action, reward, next_obs)\n",
    "    print(info)\n",
    "    obs = next_obs\n",
    "    if terminated or truncated:\n",
    "        print(\"finished\")\n",
    "        break"
   ]
  },
  {
   "cell_type": "markdown",
   "id": "5aff5bfc",
   "metadata": {},
   "source": []
  }
 ],
 "metadata": {
  "kernelspec": {
   "display_name": "new_gymnasium",
   "language": "python",
   "name": "python3"
  },
  "language_info": {
   "codemirror_mode": {
    "name": "ipython",
    "version": 3
   },
   "file_extension": ".py",
   "mimetype": "text/x-python",
   "name": "python",
   "nbconvert_exporter": "python",
   "pygments_lexer": "ipython3",
   "version": "3.12.0"
  }
 },
 "nbformat": 4,
 "nbformat_minor": 5
}
