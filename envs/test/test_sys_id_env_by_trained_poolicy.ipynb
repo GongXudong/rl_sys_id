{
 "cells": [
  {
   "cell_type": "code",
   "execution_count": 15,
   "id": "91d3a214",
   "metadata": {},
   "outputs": [
    {
     "data": {
      "text/plain": [
       "PosixPath('/home/gxd/code/rl_sys_id')"
      ]
     },
     "execution_count": 15,
     "metadata": {},
     "output_type": "execute_result"
    }
   ],
   "source": [
    "import sys\n",
    "from pathlib import Path\n",
    "from stable_baselines3.dqn import DQN\n",
    "import optuna\n",
    "\n",
    "PROJECT_ROOT_DIR = Path().absolute().parent.parent\n",
    "if str(PROJECT_ROOT_DIR.absolute()) not in sys.path:\n",
    "    sys.path.append(str(PROJECT_ROOT_DIR.absolute()))\n",
    "\n",
    "from envs.sys_id_env import SystemIdentificationEnv\n",
    "from utils.wrappers.multibinary_to_discrete import MultiBinaryToDiscreteWrapper\n",
    "\n",
    "optuna.logging.set_verbosity(optuna.logging.WARNING)  # 关闭Optuna控制台的输出\n",
    "\n",
    "PROJECT_ROOT_DIR"
   ]
  },
  {
   "cell_type": "code",
   "execution_count": 16,
   "id": "a79f717d",
   "metadata": {},
   "outputs": [
    {
     "name": "stderr",
     "output_type": "stream",
     "text": [
      "/home/gxd/anaconda3/envs/disc/lib/python3.12/site-packages/gymnasium/spaces/box.py:235: UserWarning: \u001b[33mWARN: Box low's precision lowered by casting to float32, current low.dtype=float64\u001b[0m\n",
      "  gym.logger.warn(\n",
      "/home/gxd/anaconda3/envs/disc/lib/python3.12/site-packages/gymnasium/spaces/box.py:305: UserWarning: \u001b[33mWARN: Box high's precision lowered by casting to float32, current high.dtype=float64\u001b[0m\n",
      "  gym.logger.warn(\n"
     ]
    }
   ],
   "source": [
    "params_config = {\n",
    "    \"g\": {\n",
    "        \"initial_value\": 10.0,\n",
    "        \"optimize\": True,\n",
    "        \"range\": [9.0, 10.0],\n",
    "    },\n",
    "    \"m\": {\n",
    "        \"initial_value\": 1.0,\n",
    "        \"optimize\": True,\n",
    "        \"range\": [0.8, 1.2],\n",
    "    },\n",
    "    \"l\": {\n",
    "        \"initial_value\": 1.0,\n",
    "        \"optimize\": True,\n",
    "        \"range\": [0.7, 1.3],\n",
    "    },\n",
    "}\n",
    "\n",
    "env = SystemIdentificationEnv(\n",
    "    dynamics_env_id=\"CustomPendulum-v0\",\n",
    "    params_config=params_config,\n",
    "    obs_real_file_path=PROJECT_ROOT_DIR / \"data/custom_pendulum/obs_real.npy\",\n",
    "    act_real_file_path=PROJECT_ROOT_DIR / \"data/custom_pendulum/act_real.npy\",\n",
    "    next_obs_real_file_path=PROJECT_ROOT_DIR / \"data/custom_pendulum/next_obs_real.npy\",\n",
    "    bo_optimizer_n_trials=30,\n",
    "    bo_optimizer_seed=42,\n",
    "    bo_optimizer_threads=-1,\n",
    "    reward_b=1.0,\n",
    "    max_steps=10,\n",
    "    loss_threshold=1e-10,\n",
    ")\n",
    "env = MultiBinaryToDiscreteWrapper(env)"
   ]
  },
  {
   "cell_type": "code",
   "execution_count": 17,
   "id": "807d3014",
   "metadata": {},
   "outputs": [
    {
     "name": "stdout",
     "output_type": "stream",
     "text": [
      "Wrapping the env with a `Monitor` wrapper\n",
      "Wrapping the env in a DummyVecEnv.\n"
     ]
    }
   ],
   "source": [
    "policy_path = PROJECT_ROOT_DIR / \"checkpoints/sys_id/custom_pendulum/sac/g_9_5_m_0_9_l_1_2/seed_1/best_model.zip\"\n",
    "algo = DQN.load(policy_path, env)"
   ]
  },
  {
   "cell_type": "code",
   "execution_count": null,
   "id": "98978a36",
   "metadata": {},
   "outputs": [
    {
     "name": "stdout",
     "output_type": "stream",
     "text": [
      "[10.  1.  1.] 4 -0.015187571898698508\n",
      "{'params_before_optimize': {'g': 10.0, 'm': 1.0, 'l': 1.0}, 'params_selected_to_optimize': {'g': {'initial_value': 10.0, 'optimize': True, 'range': [9.0, 10.0]}, 'l': {'initial_value': 1.0, 'optimize': True, 'range': [0.7, 1.3]}}, 'params_after_optimize': {'g': 9.519050874471805, 'l': 1.1910856541579775}, 'loss': 3.711330691658077e-06, 'success': False}\n",
      "[9.519051  1.        1.1910857] 4 -0.02582129654783822\n",
      "{'params_before_optimize': {'g': 9.519050874471805, 'm': 1.0, 'l': 1.1910856541579775}, 'params_selected_to_optimize': {'g': {'initial_value': 10.0, 'optimize': True, 'range': [9.0, 10.0]}, 'l': {'initial_value': 1.0, 'optimize': True, 'range': [0.7, 1.3]}}, 'params_after_optimize': {'g': 9.848552809717305, 'l': 1.1808320581250984}, 'loss': 6.309854597930098e-06, 'success': False}\n",
      "[9.848553 1.       1.180832] 4 -0.0043228143406037044\n",
      "{'params_before_optimize': {'g': 9.848552809717305, 'm': 1.0, 'l': 1.1808320581250984}, 'params_selected_to_optimize': {'g': {'initial_value': 10.0, 'optimize': True, 'range': [9.0, 10.0]}, 'l': {'initial_value': 1.0, 'optimize': True, 'range': [0.7, 1.3]}}, 'params_after_optimize': {'g': 9.359263487662384, 'l': 1.161311041427479}, 'loss': 1.0563501291471766e-06, 'success': False}\n",
      "[9.359263 1.       1.161311] 4 -0.011906602005130317\n",
      "{'params_before_optimize': {'g': 9.359263487662384, 'm': 1.0, 'l': 1.161311041427479}, 'params_selected_to_optimize': {'g': {'initial_value': 10.0, 'optimize': True, 'range': [9.0, 10.0]}, 'l': {'initial_value': 1.0, 'optimize': True, 'range': [0.7, 1.3]}}, 'params_after_optimize': {'g': 9.069890266249612, 'l': 1.168787683429028}, 'loss': 2.90957223114674e-06, 'success': False}\n",
      "[9.06989   1.        1.1687877] 4 -0.006377682623885201\n",
      "{'params_before_optimize': {'g': 9.069890266249612, 'm': 1.0, 'l': 1.168787683429028}, 'params_selected_to_optimize': {'g': {'initial_value': 10.0, 'optimize': True, 'range': [9.0, 10.0]}, 'l': {'initial_value': 1.0, 'optimize': True, 'range': [0.7, 1.3]}}, 'params_after_optimize': {'g': 9.417934762493772, 'l': 1.1701057994707615}, 'loss': 1.5584906805088394e-06, 'success': False}\n",
      "[9.417934  1.        1.1701058] 4 -0.0029063931386295637\n",
      "{'params_before_optimize': {'g': 9.417934762493772, 'm': 1.0, 'l': 1.1701057994707615}, 'params_selected_to_optimize': {'g': {'initial_value': 10.0, 'optimize': True, 'range': [9.0, 10.0]}, 'l': {'initial_value': 1.0, 'optimize': True, 'range': [0.7, 1.3]}}, 'params_after_optimize': {'g': 9.26576527013518, 'l': 1.1603866670847047}, 'loss': 7.102245263013174e-07, 'success': False}\n",
      "[9.265765  1.        1.1603867] 4 -0.030674767610662807\n",
      "{'params_before_optimize': {'g': 9.26576527013518, 'm': 1.0, 'l': 1.1603866670847047}, 'params_selected_to_optimize': {'g': {'initial_value': 10.0, 'optimize': True, 'range': [9.0, 10.0]}, 'l': {'initial_value': 1.0, 'optimize': True, 'range': [0.7, 1.3]}}, 'params_after_optimize': {'g': 9.580878006753737, 'l': 1.211479429161993}, 'loss': 7.4958793447876815e-06, 'success': False}\n",
      "[9.580878  1.        1.2114794] 4 -0.0044843910151205965\n",
      "{'params_before_optimize': {'g': 9.580878006753737, 'm': 1.0, 'l': 1.211479429161993}, 'params_selected_to_optimize': {'g': {'initial_value': 10.0, 'optimize': True, 'range': [9.0, 10.0]}, 'l': {'initial_value': 1.0, 'optimize': True, 'range': [0.7, 1.3]}}, 'params_after_optimize': {'g': 9.345913415227345, 'l': 1.165151054376063}, 'loss': 1.0958340226352448e-06, 'success': False}\n",
      "[9.345914 1.       1.165151] 4 -0.0023072657743764503\n",
      "{'params_before_optimize': {'g': 9.345913415227345, 'm': 1.0, 'l': 1.165151054376063}, 'params_selected_to_optimize': {'g': {'initial_value': 10.0, 'optimize': True, 'range': [9.0, 10.0]}, 'l': {'initial_value': 1.0, 'optimize': True, 'range': [0.7, 1.3]}}, 'params_after_optimize': {'g': 9.078318652831074, 'l': 1.153794833349024}, 'loss': 5.638179914058128e-07, 'success': False}\n",
      "[9.078319  1.        1.1537949] 4 -0.04554528720295766\n",
      "{'params_before_optimize': {'g': 9.078318652831074, 'm': 1.0, 'l': 1.153794833349024}, 'params_selected_to_optimize': {'g': {'initial_value': 10.0, 'optimize': True, 'range': [9.0, 10.0]}, 'l': {'initial_value': 1.0, 'optimize': True, 'range': [0.7, 1.3]}}, 'params_after_optimize': {'g': 9.014381101314173, 'l': 1.1924218832555158}, 'loss': 1.1129733138659503e-05, 'success': False}\n"
     ]
    }
   ],
   "source": [
    "obs, info = env.reset(seed=1)\n",
    "\n",
    "while True:\n",
    "    action, _ = algo.policy.predict(observation=obs, deterministic=True)\n",
    "    next_obs, reward, terminated, truncated, info = env.step(action=action)\n",
    "    print(obs, action, reward)\n",
    "    print(info)\n",
    "    obs = next_obs\n",
    "    if terminated or truncated:\n",
    "        break"
   ]
  }
 ],
 "metadata": {
  "kernelspec": {
   "display_name": "disc",
   "language": "python",
   "name": "python3"
  },
  "language_info": {
   "codemirror_mode": {
    "name": "ipython",
    "version": 3
   },
   "file_extension": ".py",
   "mimetype": "text/x-python",
   "name": "python",
   "nbconvert_exporter": "python",
   "pygments_lexer": "ipython3",
   "version": "3.12.7"
  }
 },
 "nbformat": 4,
 "nbformat_minor": 5
}
