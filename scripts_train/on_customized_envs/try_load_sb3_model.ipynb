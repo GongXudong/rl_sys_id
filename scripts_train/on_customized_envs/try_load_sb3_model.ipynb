{
 "cells": [
  {
   "cell_type": "code",
   "execution_count": 1,
   "id": "b5908786",
   "metadata": {},
   "outputs": [],
   "source": [
    "import gymnasium as gym\n",
    "from stable_baselines3.ppo import PPO"
   ]
  },
  {
   "cell_type": "code",
   "execution_count": 2,
   "id": "6e26f30e",
   "metadata": {},
   "outputs": [],
   "source": [
    "# prepare the environment\n",
    "env = gym.make(\"CartPole-v1\", render_mode=\"human\")"
   ]
  },
  {
   "cell_type": "code",
   "execution_count": 3,
   "id": "78d91d8a",
   "metadata": {},
   "outputs": [],
   "source": [
    "# best_model.zip是sb3训练好的ckpt\n",
    "algo = PPO.load(\"/home/gxd/code/sim2real/checkpoints/custom_cartpole/ppo/best_model.zip\", env=env)"
   ]
  },
  {
   "cell_type": "code",
   "execution_count": 4,
   "id": "88576544",
   "metadata": {},
   "outputs": [
    {
     "name": "stdout",
     "output_type": "stream",
     "text": [
      "Episode finished with cumulative reward: 500.0\n"
     ]
    }
   ],
   "source": [
    "# Reset the environment to get the initial observation\n",
    "obs, info = env.reset(seed=42)\n",
    "\n",
    "cumulative_reward = 0.0\n",
    "\n",
    "while True:\n",
    "    # Predict the action using the loaded model\n",
    "    action, _ = algo.predict(observation=obs, deterministic=True)\n",
    "    \n",
    "    # Step the environment with the predicted action\n",
    "    obs, reward, terminated, truncated, info = env.step(action)\n",
    "    \n",
    "    # Accumulate the reward\n",
    "    cumulative_reward += reward\n",
    "\n",
    "    # check if the episode is done\n",
    "    if terminated or truncated:\n",
    "        print(f\"Episode finished with cumulative reward: {cumulative_reward}\")\n",
    "        break"
   ]
  },
  {
   "cell_type": "code",
   "execution_count": 5,
   "id": "4df36bb6",
   "metadata": {},
   "outputs": [],
   "source": [
    "env.close()"
   ]
  }
 ],
 "metadata": {
  "kernelspec": {
   "display_name": "disc",
   "language": "python",
   "name": "python3"
  },
  "language_info": {
   "codemirror_mode": {
    "name": "ipython",
    "version": 3
   },
   "file_extension": ".py",
   "mimetype": "text/x-python",
   "name": "python",
   "nbconvert_exporter": "python",
   "pygments_lexer": "ipython3",
   "version": "3.12.7"
  }
 },
 "nbformat": 4,
 "nbformat_minor": 5
}
