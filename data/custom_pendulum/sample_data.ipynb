{
 "cells": [
  {
   "cell_type": "code",
   "execution_count": 19,
   "id": "539e1678",
   "metadata": {},
   "outputs": [
    {
     "data": {
      "text/plain": [
       "PosixPath('/home/ucav/pythonprojects/rl_sys_id')"
      ]
     },
     "execution_count": 19,
     "metadata": {},
     "output_type": "execute_result"
    }
   ],
   "source": [
    "from pathlib import Path\n",
    "import sys\n",
    "import numpy as np\n",
    "import gymnasium as gym\n",
    "from stable_baselines3.ppo import PPO\n",
    "from stable_baselines3.sac import SAC\n",
    "\n",
    "PROJECT_ROOT_DIR = Path().absolute().parent.parent\n",
    "if str(PROJECT_ROOT_DIR.absolute()) not in sys.path:\n",
    "    sys.path.append(str(PROJECT_ROOT_DIR.absolute()))\n",
    "\n",
    "from envs.custom_pendulum import CustomPendulumEnv\n",
    "from utils.collect_samples import collect_samples\n",
    "\n",
    "PROJECT_ROOT_DIR"
   ]
  },
  {
   "cell_type": "code",
   "execution_count": 20,
   "id": "109671a9",
   "metadata": {},
   "outputs": [],
   "source": [
    "env_config_real = {\n",
    "    \"g\": 9.5,\n",
    "    \"m\": 0.9,\n",
    "    \"l\": 1.2,\n",
    "}\n",
    "env_real = CustomPendulumEnv.get_env_from_config(config=env_config_real)\n",
    "# env_real = gym.make(\"CustomPendulum-v0\", **env_config_real)"
   ]
  },
  {
   "cell_type": "code",
   "execution_count": 21,
   "id": "c4537a78",
   "metadata": {},
   "outputs": [
    {
     "data": {
      "text/plain": [
       "<envs.custom_pendulum.CustomPendulumEnv at 0x7b91dc44cd10>"
      ]
     },
     "execution_count": 21,
     "metadata": {},
     "output_type": "execute_result"
    }
   ],
   "source": [
    "env_real"
   ]
  },
  {
   "cell_type": "code",
   "execution_count": 22,
   "id": "fcc9d961",
   "metadata": {},
   "outputs": [
    {
     "data": {
      "text/plain": [
       "(9.5, 0.9, 1.2)"
      ]
     },
     "execution_count": 22,
     "metadata": {},
     "output_type": "execute_result"
    }
   ],
   "source": [
    "env_real.unwrapped.g, env_real.unwrapped.m, env_real.unwrapped.l"
   ]
  },
  {
   "cell_type": "code",
   "execution_count": 23,
   "id": "73b8a32c",
   "metadata": {},
   "outputs": [
    {
     "name": "stdout",
     "output_type": "stream",
     "text": [
      "Wrapping the env with a `Monitor` wrapper\n",
      "Wrapping the env in a DummyVecEnv.\n",
      "reset num: 100\n",
      "length of obs_real: 10000, length of act_real: 10000, length of next_obs_real: 10000\n",
      "<class 'numpy.ndarray'> <class 'numpy.ndarray'> <class 'numpy.ndarray'>\n",
      "[[ 0.6520163   0.758205   -0.46042657]\n",
      " [ 0.6454508   0.7638019   0.17254764]\n",
      " [ 0.6141476   0.7891912   0.80615777]\n",
      " ...\n",
      " [ 0.9994345  -0.03362619  0.11655765]\n",
      " [ 0.99960446 -0.02812359  0.11010458]\n",
      " [ 0.99973625 -0.02296495  0.10320653]]\n",
      "[[1.5793056 ]\n",
      " [1.5560877 ]\n",
      " [0.7052851 ]\n",
      " ...\n",
      " [0.11674786]\n",
      " [0.08467484]\n",
      " [0.05107832]]\n",
      "[[ 0.6454508   0.7638019   0.17254764]\n",
      " [ 0.6141476   0.7891912   0.80615777]\n",
      " [ 0.559255    0.82899565  1.3563702 ]\n",
      " ...\n",
      " [ 0.99960446 -0.02812359  0.11010458]\n",
      " [ 0.99973625 -0.02296495  0.10320653]\n",
      " [ 0.99983454 -0.01819182  0.09548293]]\n"
     ]
    }
   ],
   "source": [
    "policy_class = SAC\n",
    "policy_path = PROJECT_ROOT_DIR / \"checkpoints/custom_pendulum/sac/g_10_0_m_1_0_l_1_0/seed_1/best_model.zip\"\n",
    "algo = policy_class.load(policy_path, env=env_real)\n",
    "\n",
    "collect_real_sample_num = 10000\n",
    "\n",
    "obs_real, act_real, next_obs_real = collect_samples(\n",
    "    policy=algo.policy,\n",
    "    env=env_real,\n",
    "    num_samples=collect_real_sample_num,\n",
    "    per_episode_samples=100,\n",
    "    deterministic=True,\n",
    ")\n",
    "\n",
    "print(f\"length of obs_real: {len(obs_real)}, length of act_real: {len(act_real)}, length of next_obs_real: {len(next_obs_real)}\")\n",
    "print(type(obs_real), type(act_real), type(next_obs_real))\n",
    "print(obs_real)\n",
    "print(act_real)\n",
    "print(next_obs_real)\n",
    "\n",
    "np.save(PROJECT_ROOT_DIR / \"data/custom_pendulum/obs_real.npy\", obs_real, allow_pickle=True)\n",
    "np.save(PROJECT_ROOT_DIR / \"data/custom_pendulum/act_real.npy\", act_real, allow_pickle=True)\n",
    "np.save(PROJECT_ROOT_DIR / \"data/custom_pendulum/next_obs_real.npy\", next_obs_real, allow_pickle=True)"
   ]
  },
  {
   "cell_type": "code",
   "execution_count": 24,
   "id": "09b66e28",
   "metadata": {},
   "outputs": [
    {
     "data": {
      "text/plain": [
       "array([[ 0.6520163 ,  0.758205  , -0.46042657],\n",
       "       [ 0.6454508 ,  0.7638019 ,  0.17254764],\n",
       "       [ 0.6141476 ,  0.7891912 ,  0.80615777],\n",
       "       ...,\n",
       "       [ 0.9994345 , -0.03362619,  0.11655765],\n",
       "       [ 0.99960446, -0.02812359,  0.11010458],\n",
       "       [ 0.99973625, -0.02296495,  0.10320653]], dtype=float32)"
      ]
     },
     "execution_count": 24,
     "metadata": {},
     "output_type": "execute_result"
    }
   ],
   "source": [
    "a = np.load(str(PROJECT_ROOT_DIR / \"data/custom_pendulum/obs_real.npy\"), allow_pickle=True)\n",
    "a"
   ]
  },
  {
   "cell_type": "code",
   "execution_count": 25,
   "id": "3f499054",
   "metadata": {},
   "outputs": [
    {
     "name": "stdout",
     "output_type": "stream",
     "text": [
      "[7 9 2 2 7]\n",
      "[8 5 1 8 5]\n",
      "[1 1 4 6 4]\n",
      "[8 0 4 5 9]\n",
      "[2 8 0 3 7]\n",
      "[5 9 7 9 8]\n",
      "[1 9 8 1 9]\n",
      "[7 3 1 3 9]\n",
      "[7 2 4 8 6]\n",
      "[3 1 9 2 5]\n"
     ]
    }
   ],
   "source": [
    "from gymnasium.utils import seeding\n",
    "\n",
    "rng, _ = seeding.np_random(10)\n",
    "for i in range(10):\n",
    "    print(rng.choice(10, 5, replace=True))"
   ]
  }
 ],
 "metadata": {
  "kernelspec": {
   "display_name": "new_gymnasium",
   "language": "python",
   "name": "python3"
  },
  "language_info": {
   "codemirror_mode": {
    "name": "ipython",
    "version": 3
   },
   "file_extension": ".py",
   "mimetype": "text/x-python",
   "name": "python",
   "nbconvert_exporter": "python",
   "pygments_lexer": "ipython3",
   "version": "3.12.0"
  }
 },
 "nbformat": 4,
 "nbformat_minor": 5
}
