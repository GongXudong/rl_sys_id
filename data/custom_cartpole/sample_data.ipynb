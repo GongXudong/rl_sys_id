{
 "cells": [
  {
   "cell_type": "code",
   "execution_count": 8,
   "id": "539e1678",
   "metadata": {},
   "outputs": [
    {
     "data": {
      "text/plain": [
       "PosixPath('/home/ucav/pythonprojects/rl_sys_id')"
      ]
     },
     "execution_count": 8,
     "metadata": {},
     "output_type": "execute_result"
    }
   ],
   "source": [
    "from pathlib import Path\n",
    "import sys\n",
    "import numpy as np\n",
    "from stable_baselines3.ppo import PPO\n",
    "\n",
    "PROJECT_ROOT_DIR = Path().absolute().parent.parent\n",
    "if str(PROJECT_ROOT_DIR.absolute()) not in sys.path:\n",
    "    sys.path.append(str(PROJECT_ROOT_DIR.absolute()))\n",
    "\n",
    "from envs.custom_cartpole import CustomCartPoleEnv\n",
    "from utils.collect_samples import collect_samples\n",
    "\n",
    "PROJECT_ROOT_DIR"
   ]
  },
  {
   "cell_type": "code",
   "execution_count": 9,
   "id": "73b8a32c",
   "metadata": {},
   "outputs": [
    {
     "name": "stdout",
     "output_type": "stream",
     "text": [
      "reset num: 20\n",
      "length of obs_real: 10000, length of act_real: 10000, length of next_obs_real: 10000\n",
      "<class 'numpy.ndarray'> <class 'numpy.ndarray'> <class 'numpy.ndarray'>\n",
      "[[ 0.01369617 -0.02302133 -0.04590265 -0.04834723]\n",
      " [ 0.01323574 -0.20064893 -0.04686959  0.1817283 ]\n",
      " [ 0.00922276 -0.02196545 -0.04323503 -0.07380246]\n",
      " ...\n",
      " [-0.29560056 -0.12764272 -0.00338932  0.21436577]\n",
      " [-0.2981534   0.05056946  0.00089799 -0.02952759]\n",
      " [-0.29714203  0.22873291  0.00030744 -0.272245  ]]\n",
      "[0 1 0 ... 1 1 0]\n",
      "[[ 0.01323574 -0.20064893 -0.04686959  0.1817283 ]\n",
      " [ 0.00922276 -0.02196545 -0.04323503 -0.07380246]\n",
      " [ 0.00878346 -0.19962606 -0.04471108  0.1570373 ]\n",
      " ...\n",
      " [-0.2981534   0.05056946  0.00089799 -0.02952759]\n",
      " [-0.29714203  0.22873291  0.00030744 -0.272245  ]\n",
      " [-0.29256737  0.0505557  -0.00513746 -0.02919643]]\n"
     ]
    }
   ],
   "source": [
    "env_config_real = {\n",
    "    \"gravity\": 9.5,\n",
    "    \"masscart\": 1.1,\n",
    "    \"masspole\": 0.09,\n",
    "    \"length\": 0.55,\n",
    "    \"force_mag\": 10.0,\n",
    "    \"tau\": 0.02,\n",
    "}\n",
    "env_real = CustomCartPoleEnv.get_env_from_config(config=env_config_real)\n",
    "\n",
    "policy_class = PPO\n",
    "policy_path = PROJECT_ROOT_DIR / \"checkpoints/custom_cartpole/ppo/best_model.zip\"\n",
    "algo = policy_class.load(policy_path, env=env_real)\n",
    "\n",
    "collect_real_sample_num = 10000\n",
    "\n",
    "obs_real, act_real, next_obs_real = collect_samples(\n",
    "    policy=algo.policy,\n",
    "    env=env_real,\n",
    "    num_samples=collect_real_sample_num,\n",
    "    deterministic=True,\n",
    ")\n",
    "\n",
    "print(f\"length of obs_real: {len(obs_real)}, length of act_real: {len(act_real)}, length of next_obs_real: {len(next_obs_real)}\")\n",
    "print(type(obs_real), type(act_real), type(next_obs_real))\n",
    "print(obs_real)\n",
    "print(act_real)\n",
    "print(next_obs_real)\n",
    "\n",
    "np.save(PROJECT_ROOT_DIR / \"data/custom_cartpole/obs_real.npy\", obs_real, allow_pickle=True)\n",
    "np.save(PROJECT_ROOT_DIR / \"data/custom_cartpole/act_real.npy\", act_real, allow_pickle=True)\n",
    "np.save(PROJECT_ROOT_DIR / \"data/custom_cartpole/next_obs_real.npy\", next_obs_real, allow_pickle=True)"
   ]
  },
  {
   "cell_type": "code",
   "execution_count": 10,
   "id": "09b66e28",
   "metadata": {},
   "outputs": [
    {
     "data": {
      "text/plain": [
       "array([[ 0.01369617, -0.02302133, -0.04590265, -0.04834723],\n",
       "       [ 0.01323574, -0.20064893, -0.04686959,  0.1817283 ],\n",
       "       [ 0.00922276, -0.02196545, -0.04323503, -0.07380246],\n",
       "       ...,\n",
       "       [-0.29560056, -0.12764272, -0.00338932,  0.21436577],\n",
       "       [-0.2981534 ,  0.05056946,  0.00089799, -0.02952759],\n",
       "       [-0.29714203,  0.22873291,  0.00030744, -0.272245  ]],\n",
       "      dtype=float32)"
      ]
     },
     "execution_count": 10,
     "metadata": {},
     "output_type": "execute_result"
    }
   ],
   "source": [
    "a = np.load(str(PROJECT_ROOT_DIR / \"data/custom_cartpole/obs_real.npy\"), allow_pickle=True)\n",
    "a"
   ]
  }
 ],
 "metadata": {
  "kernelspec": {
   "display_name": "new_gymnasium",
   "language": "python",
   "name": "python3"
  },
  "language_info": {
   "codemirror_mode": {
    "name": "ipython",
    "version": 3
   },
   "file_extension": ".py",
   "mimetype": "text/x-python",
   "name": "python",
   "nbconvert_exporter": "python",
   "pygments_lexer": "ipython3",
   "version": "3.12.0"
  }
 },
 "nbformat": 4,
 "nbformat_minor": 5
}
