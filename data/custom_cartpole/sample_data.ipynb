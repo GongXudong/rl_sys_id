{
 "cells": [
  {
   "cell_type": "code",
   "execution_count": 23,
   "id": "539e1678",
   "metadata": {},
   "outputs": [
    {
     "data": {
      "text/plain": [
       "PosixPath('/home/gxd/code/rl_sys_id')"
      ]
     },
     "execution_count": 23,
     "metadata": {},
     "output_type": "execute_result"
    }
   ],
   "source": [
    "from pathlib import Path\n",
    "import sys\n",
    "import numpy as np\n",
    "from stable_baselines3.ppo import PPO\n",
    "\n",
    "PROJECT_ROOT_DIR = Path().absolute().parent.parent\n",
    "if str(PROJECT_ROOT_DIR.absolute()) not in sys.path:\n",
    "    sys.path.append(str(PROJECT_ROOT_DIR.absolute()))\n",
    "\n",
    "from envs.custom_cartpole import CustomCartPoleEnv\n",
    "from utils.collect_samples import collect_samples\n",
    "\n",
    "PROJECT_ROOT_DIR"
   ]
  },
  {
   "cell_type": "code",
   "execution_count": 24,
   "id": "73b8a32c",
   "metadata": {},
   "outputs": [
    {
     "name": "stdout",
     "output_type": "stream",
     "text": [
      "length of obs_real: 3000, length of act_real: 3000, length of next_obs_real: 3000\n",
      "<class 'numpy.ndarray'> <class 'numpy.ndarray'> <class 'numpy.ndarray'>\n",
      "[[ 0.01369617 -0.02302133 -0.04590265 -0.04834723]\n",
      " [ 0.01323574 -0.15502313 -0.04686959  0.13595626]\n",
      " [ 0.01013528 -0.02257179 -0.04415047 -0.07627718]\n",
      " ...\n",
      " [-0.10253495  0.10692363 -0.00173933 -0.1047003 ]\n",
      " [-0.10039648 -0.02529932 -0.00383333  0.09312246]\n",
      " [-0.10090246  0.10695066 -0.00197088 -0.10637804]]\n",
      "[0 1 0 ... 0 1 0]\n",
      "[[ 0.01323574 -0.15502313 -0.04686959  0.13595626]\n",
      " [ 0.01013528 -0.02257179 -0.04415047 -0.07627718]\n",
      " [ 0.00968384 -0.15458263 -0.04567601  0.1085701 ]\n",
      " ...\n",
      " [-0.10039648 -0.02529932 -0.00383333  0.09312246]\n",
      " [-0.10090246  0.10695066 -0.00197088 -0.10637804]\n",
      " [-0.09876345 -0.02527117 -0.00409845  0.09137487]]\n"
     ]
    }
   ],
   "source": [
    "env_config_real = {\n",
    "    \"gravity\": 9.8,\n",
    "    \"masscart\": 1.5,\n",
    "    \"masspole\": 0.05,\n",
    "    \"length\": 0.5,\n",
    "    \"force_mag\": 10.0,\n",
    "    \"tau\": 0.02,\n",
    "}\n",
    "env_real = CustomCartPoleEnv.get_env_from_config(config=env_config_real)\n",
    "\n",
    "policy_class = PPO\n",
    "policy_path = PROJECT_ROOT_DIR / \"checkpoints/custom_cartpole/ppo/best_model.zip\"\n",
    "algo = policy_class.load(policy_path, env=env_real)\n",
    "\n",
    "collect_real_sample_num = 3000\n",
    "\n",
    "obs_real, act_real, next_obs_real = collect_samples(\n",
    "    policy=algo.policy,\n",
    "    env=env_real,\n",
    "    num_samples=collect_real_sample_num,\n",
    "    deterministic=True,\n",
    ")\n",
    "\n",
    "print(f\"length of obs_real: {len(obs_real)}, length of act_real: {len(act_real)}, length of next_obs_real: {len(next_obs_real)}\")\n",
    "print(type(obs_real), type(act_real), type(next_obs_real))\n",
    "print(obs_real)\n",
    "print(act_real)\n",
    "print(next_obs_real)\n",
    "\n",
    "np.save(PROJECT_ROOT_DIR / \"data/custom_cartpole/obs_real.npy\", obs_real, allow_pickle=True)\n",
    "np.save(PROJECT_ROOT_DIR / \"data/custom_cartpole/act_real.npy\", act_real, allow_pickle=True)\n",
    "np.save(PROJECT_ROOT_DIR / \"data/custom_cartpole/next_obs_real.npy\", next_obs_real, allow_pickle=True)"
   ]
  },
  {
   "cell_type": "code",
   "execution_count": 25,
   "id": "09b66e28",
   "metadata": {},
   "outputs": [
    {
     "data": {
      "text/plain": [
       "array([[ 0.01369617, -0.02302133, -0.04590265, -0.04834723],\n",
       "       [ 0.01323574, -0.15502313, -0.04686959,  0.13595626],\n",
       "       [ 0.01013528, -0.02257179, -0.04415047, -0.07627718],\n",
       "       ...,\n",
       "       [-0.10253495,  0.10692363, -0.00173933, -0.1047003 ],\n",
       "       [-0.10039648, -0.02529932, -0.00383333,  0.09312246],\n",
       "       [-0.10090246,  0.10695066, -0.00197088, -0.10637804]],\n",
       "      dtype=float32)"
      ]
     },
     "execution_count": 25,
     "metadata": {},
     "output_type": "execute_result"
    }
   ],
   "source": [
    "a = np.load(str(PROJECT_ROOT_DIR / \"data/custom_cartpole/obs_real.npy\"), allow_pickle=True)\n",
    "a"
   ]
  }
 ],
 "metadata": {
  "kernelspec": {
   "display_name": "disc",
   "language": "python",
   "name": "python3"
  },
  "language_info": {
   "codemirror_mode": {
    "name": "ipython",
    "version": 3
   },
   "file_extension": ".py",
   "mimetype": "text/x-python",
   "name": "python",
   "nbconvert_exporter": "python",
   "pygments_lexer": "ipython3",
   "version": "3.12.7"
  }
 },
 "nbformat": 4,
 "nbformat_minor": 5
}
